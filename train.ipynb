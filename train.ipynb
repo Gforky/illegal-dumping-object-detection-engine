{
 "cells": [
  {
   "cell_type": "markdown",
   "metadata": {},
   "source": [
    "# Step 1. Feature extraction"
   ]
  },
  {
   "cell_type": "code",
   "execution_count": 1,
   "metadata": {
    "collapsed": false
   },
   "outputs": [],
   "source": [
    "import sys\n",
    "import os\n",
    "import pickle\n",
    "import tensorflow as tf\n",
    "from tensorflow.contrib.slim.python.slim.nets import alexnet, vgg, inception_v3, resnet_v2"
   ]
  },
  {
   "cell_type": "code",
   "execution_count": 4,
   "metadata": {
    "collapsed": false
   },
   "outputs": [
    {
     "name": "stdout",
     "output_type": "stream",
     "text": [
      "alexnet:224, vgg:224, inception:299, resnet:224\n"
     ]
    }
   ],
   "source": [
    "alex_size = alexnet.alexnet_v2.default_image_size\n",
    "vgg_size = vgg.vgg_16.default_image_size\n",
    "inc_size = inception_v3.inception_v3.default_image_size\n",
    "res_size = resnet_v2.resnet_v2.default_image_size\n",
    "print('alexnet:%d, vgg:%d, inception:%d, resnet:%d' %(alex_size, vgg_size, inc_size, res_size))"
   ]
  },
  {
   "cell_type": "code",
   "execution_count": 3,
   "metadata": {
    "collapsed": true
   },
   "outputs": [],
   "source": [
    "def feature_extraction(class_count, final_tensor_name, bottleneck_tensor):\n",
    "    with tf.name_scope('input'):\n",
    "        bottleneck_input = tf.placeholder_with_default(\n",
    "            bottleneck_tensor, shape=[None, BOTTLENECK_TENSOR_SIZE],\n",
    "            name='BottleneckInputPlaceholder')\n",
    "\n",
    "    ground_truth_input = tf.placeholder(tf.float32,\n",
    "                                        [None, class_count],\n",
    "                                        name='GroundTruthInput')\n",
    "    \n",
    "    layer_name = 'final_training_ops'\n",
    "    with tf.name_scope(layer_name):\n",
    "        with tf.name_scope('weights'):\n",
    "            layer_weights = tf.Variable(tf.truncated_normal([BOTTLENECK_TENSOR_SIZE, class_count], stddev=0.001), name='final_weights')\n",
    "            variable_summaries(layer_weights)\n",
    "        with tf.name_scope('biases'):\n",
    "            layer_biases = tf.Variable(tf.zeros([class_count]), name='final_biases')\n",
    "            variable_summaries(layer_biases)\n",
    "        with tf.name_scope('Wx_plus_b'):\n",
    "            logits = tf.matmul(bottleneck_input, layer_weights) + layer_biases\n",
    "            tf.summary.histogram('pre_activations', logits)\n",
    "    \n",
    "    final_tensor = tf.nn.softmax(logits, name=final_tensor_name)\n",
    "    tf.summary.histogram('activations', final_tensor)\n",
    "\n",
    "    with tf.name_scope('cross_entropy'):\n",
    "        cross_entropy = tf.nn.softmax_cross_entropy_with_logits(\n",
    "            labels=ground_truth_input, logits=logits)\n",
    "        with tf.name_scope('total'):\n",
    "            cross_entropy_mean = tf.reduce_mean(cross_entropy)\n",
    "    tf.summary.scalar('cross_entropy', cross_entropy_mean)\n",
    "\n",
    "    with tf.name_scope('train'):\n",
    "        train_step = tf.train.GradientDescentOptimizer(FLAGS.learning_rate).minimize(\n",
    "            cross_entropy_mean)\n",
    "    \n",
    "    return (train_step, cross_entropy_mean, bottleneck_input, ground_truth_input,\n",
    "            final_tensor)"
   ]
  },
  {
   "cell_type": "code",
   "execution_count": null,
   "metadata": {
    "collapsed": false
   },
   "outputs": [],
   "source": [
    "# returns the second last layer of alexnet\n",
    "fc7 = alexnet.alexnet_v2\n",
    "fc7 = tf.stop_gradient(fc7)\n",
    "# shape = (fc7.get_shape().as_list()[-1], nb_classes)\n",
    "# fc8W = tf.Variable(tf.truncated_normal(shape, stddev=1e-2))\n",
    "# fc8b = tf.Variable(tf.zeros(nb_classes))\n",
    "# logits = tf.nn.xw_plus_b(fc7, fc8W, fc8b)\n",
    "\n",
    "# cross_entropy = tf.nn.sparse_softmax_cross_entropy_with_logits(logits, labels)\n",
    "# loss_op = tf.reduce_mean(cross_entropy)\n",
    "# opt = tf.train.AdamOptimizer()\n",
    "# train_op = opt.minimize(loss_op, var_list=[fc8W, fc8b])\n",
    "# init_op = tf.global_variables_initializer()\n",
    "\n",
    "# preds = tf.arg_max(logits, 1)\n",
    "# accuracy_op = tf.reduce_mean(tf.cast(tf.equal(preds, labels), tf.float32))"
   ]
  },
  {
   "cell_type": "code",
   "execution_count": null,
   "metadata": {
    "collapsed": false
   },
   "outputs": [],
   "source": [
    "nb_classes = 3\n",
    "epochs = 10\n",
    "batch_size = 20\n",
    "\n",
    "features = tf.placeholder(tf.float32, (None, 500, 375, 3))\n",
    "labels = tf.placeholder(tf.int64, None)\n",
    "\n",
    "alexnet\n",
    "# fc7 = alexnet(features, feature_extract=True)\n",
    "# fc7 = tf.stop_gradient(fc7)\n",
    "# shape = (fc7.get_shape().as_list()[-1], nb_classes)\n",
    "# fc8W = tf.Variable(tf.truncated_normal(shape, stddev=1e-2))\n",
    "# fc8b = tf.Variable(tf.zeros(nb_classes))\n",
    "# logits = tf.nn.xw_plus_b(fc7, fc8W, fc8b)\n",
    "\n",
    "# cross_entropy = tf.nn.sparse_softmax_cross_entropy_with_logits(logits, labels)\n",
    "# loss_op = tf.reduce_mean(cross_entropy)\n",
    "# opt = tf.train.AdamOptimizer()\n",
    "# train_op = opt.minimize(loss_op, var_list=[fc8W, fc8b])\n",
    "# init_op = tf.global_variables_initializer()\n",
    "\n",
    "# preds = tf.arg_max(logits, 1)\n",
    "# accuracy_op = tf.reduce_mean(tf.cast(tf.equal(preds, labels), tf.float32))"
   ]
  },
  {
   "cell_type": "markdown",
   "metadata": {},
   "source": [
    "Credit: http://www.cs.toronto.edu/~guerzhoy/tf_alexnet/myalexnet_forward.py"
   ]
  }
 ],
 "metadata": {
  "kernelspec": {
   "display_name": "Python 3",
   "language": "python",
   "name": "python3"
  },
  "language_info": {
   "codemirror_mode": {
    "name": "ipython",
    "version": 3
   },
   "file_extension": ".py",
   "mimetype": "text/x-python",
   "name": "python",
   "nbconvert_exporter": "python",
   "pygments_lexer": "ipython3",
   "version": "3.5.0"
  },
  "widgets": {
   "state": {},
   "version": "1.1.2"
  }
 },
 "nbformat": 4,
 "nbformat_minor": 2
}
