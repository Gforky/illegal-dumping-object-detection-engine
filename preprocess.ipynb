{
 "cells": [
  {
   "cell_type": "markdown",
   "metadata": {
    "deletable": true,
    "editable": true
   },
   "source": [
    "# Step 0. Import libraries"
   ]
  },
  {
   "cell_type": "code",
   "execution_count": 2,
   "metadata": {
    "collapsed": false,
    "deletable": true,
    "editable": true
   },
   "outputs": [],
   "source": [
    "import os\n",
    "import random\n",
    "import numpy as np\n",
    "import tarfile\n",
    "import sys\n",
    "import pickle\n",
    "from PIL import Image\n",
    "from sklearn.model_selection import train_test_split\n",
    "from tensorflow.contrib.slim.python.slim.nets import inception_v3\n",
    "import matplotlib.pyplot as plt\n",
    "%matplotlib inline"
   ]
  },
  {
   "cell_type": "markdown",
   "metadata": {
    "deletable": true,
    "editable": true
   },
   "source": [
    "# Step 1. Uncompress the image folder"
   ]
  },
  {
   "cell_type": "code",
   "execution_count": 3,
   "metadata": {
    "collapsed": false,
    "deletable": true,
    "editable": true
   },
   "outputs": [
    {
     "name": "stdout",
     "output_type": "stream",
     "text": [
      "training-images already exists. Skipping extracting training-images.tar.gz.\n",
      "['training-images/couches', 'training-images/mattresses', 'training-images/tv-monitor']\n"
     ]
    }
   ],
   "source": [
    "num_classes = 3\n",
    "train_filename = 'training-images.tar.gz'\n",
    "\n",
    "def do_extract(filename, force=False):\n",
    "    root = os.path.splitext(os.path.splitext(filename)[0])[0] # remove .tar.gz\n",
    "    if os.path.isdir(root) and not force:\n",
    "        print('%s already exists. Skipping extracting %s.' % (root, filename))\n",
    "    else:\n",
    "        print('Extracting data for %s...' % root)\n",
    "        tar = tarfile.open(filename, \"r:gz\")\n",
    "        tar.extractall()\n",
    "        tar.close()\n",
    "    data_folders = [os.path.join(root, d) for d in sorted(os.listdir(root)) if os.path.isdir(os.path.join(root, d))]\n",
    "    if len(data_folders) != num_classes:\n",
    "        raise Exception('Expected %d folders, one per class. Found %d instead.' % (num_classes, len(data_folders)))\n",
    "    print(data_folders)\n",
    "    return data_folders\n",
    "\n",
    "train_folders = do_extract(train_filename)"
   ]
  },
  {
   "cell_type": "code",
   "execution_count": 4,
   "metadata": {
    "collapsed": false,
    "deletable": true,
    "editable": true
   },
   "outputs": [],
   "source": [
    "def do_remove(folder):\n",
    "    image_files = os.listdir(folder)\n",
    "    for image in image_files:\n",
    "        image_file = os.path.join(folder, image)\n",
    "        try:\n",
    "            image = Image.open(image_file)\n",
    "        except IOError as e:\n",
    "            os.remove(image_file)\n",
    "            print('Removed %s' % image_file)\n",
    "\n",
    "do_remove('training-images/couches/')\n",
    "do_remove('training-images/mattresses/')\n",
    "do_remove('training-images/tv-monitor/')"
   ]
  },
  {
   "cell_type": "markdown",
   "metadata": {},
   "source": [
    "# Define Image preprocessing pipeline - Image Augmentation"
   ]
  },
  {
   "cell_type": "code",
   "execution_count": 7,
   "metadata": {
    "collapsed": true
   },
   "outputs": [],
   "source": [
    "import cv2\n",
    "def flipImg(image):\n",
    "    \"\"\"\n",
    "        Flipping Image\n",
    "        \n",
    "        Args:\n",
    "            image (arr): image matrix\n",
    "            \n",
    "        Retruns:\n",
    "            image matrix\n",
    "    \"\"\"\n",
    "    \n",
    "    flipImg = image.copy()\n",
    "    flipImg = cv2.flip(image, 1)\n",
    "    \n",
    "    return flipImg\n",
    "\n",
    "def brightnessImg(image):\n",
    "    \"\"\"\n",
    "        Raondomly adjust brightness of image\n",
    "        \n",
    "        Args:\n",
    "            image (arr): image matrix\n",
    "\n",
    "        Returns:\n",
    "            image matrix\n",
    "    \"\"\"\n",
    "    \n",
    "    imgCopy = image.copy()\n",
    "    randomValue = np.random.uniform() + 0.3\n",
    "    birghtnessImgHSV = cv2.cvtColor(imgCopy, cv2.COLOR_BGR2HSV)\n",
    "    birghtnessImgHSV[:,:, 2] = birghtnessImgHSV[:,:, 2] * randomValue\n",
    "    ImgBGR =  cv2.cvtColor(birghtnessImgHSV, cv2.COLOR_HSV2BGR)\n",
    "    ImgRGB = cv2.cvtColor(ImgBGR, cv2.COLOR_BGR2RGB)\n",
    "\n",
    "    return ImgRGB\n",
    "\n",
    "def colorJittering(image):\n",
    "    \"\"\"\n",
    "        Randomly shift some pixels around\n",
    "    \"\"\"\n",
    "    img = image.copy()\n",
    "    img = cv2.cvtColor(img, cv2.COLOR_BGR2RGB)  # cv2 defaul color code is BGR\n",
    "    h,w,c = img.shape # (299, 299, 3)\n",
    "\n",
    "    noise = np.random.randint(0,50,(h, w)) # design jitter/noise here\n",
    "    zitter = np.zeros_like(img)\n",
    "    zitter[:,:,1] = noise  \n",
    "\n",
    "    noise_added = cv2.add(img, zitter)\n",
    "    #combined = np.vstack((img[:h/2,:,:], noise_added[h/2:,:,:]))\n",
    "    return noise_added\n",
    "\n",
    "def shiftChannel(image):\n",
    "    '''\n",
    "        Shift each channel by 10 pixels\n",
    "    '''\n",
    "    img = image.copy()\n",
    "    img = cv2.cvtColor(img, cv2.COLOR_BGR2RGB)  # cv2 defaul color code is BGR\n",
    "    R = img[:,:,0]\n",
    "    G = img[:,:,1]\n",
    "    B = img[:,:,2]\n",
    "    RGBshifted = np.dstack( (\n",
    "        np.roll(R, 10, axis=0), \n",
    "        np.roll(G, 10, axis=1), \n",
    "        np.roll(B, -10, axis=0)\n",
    "    ))\n",
    "    \n",
    "    return RGBshifted\n",
    "\n",
    "def randCrop(image):\n",
    "    '''\n",
    "        Randomly crop the image\n",
    "    '''\n",
    "    img = image.copy()\n",
    "    w,h = img.size # (299, 299)\n",
    "    corner_x = np.random.randint(0, 149) # randomly choose left-up corner in left-up quater area\n",
    "    corner_y = np.random.randint(0, 149)\n",
    "    temp_img = img.crop(\n",
    "        (\n",
    "            corner_x,\n",
    "            corner_y,\n",
    "            w,\n",
    "            h\n",
    "        )\n",
    "    )\n",
    "    crop_img = temp_img.resize((w, h), Image.ANTIALIAS)\n",
    "    return crop_img\n",
    "\n",
    "# def driftImg(image):\n",
    "#     \"\"\"\n",
    "#         Working on this\n",
    "#         TODO: define drifting mathod for image augmentation\n",
    "#     \"\"\""
   ]
  },
  {
   "cell_type": "code",
   "execution_count": 8,
   "metadata": {
    "collapsed": false
   },
   "outputs": [
    {
     "ename": "NameError",
     "evalue": "name 'img_4' is not defined",
     "output_type": "error",
     "traceback": [
      "\u001b[0;31m---------------------------------------------------------------------------\u001b[0m",
      "\u001b[0;31mNameError\u001b[0m                                 Traceback (most recent call last)",
      "\u001b[0;32m<ipython-input-8-1ef029ea4817>\u001b[0m in \u001b[0;36m<module>\u001b[0;34m()\u001b[0m\n\u001b[1;32m     11\u001b[0m \u001b[0;34m\u001b[0m\u001b[0m\n\u001b[1;32m     12\u001b[0m \u001b[0mplt\u001b[0m\u001b[0;34m.\u001b[0m\u001b[0msubplot\u001b[0m\u001b[0;34m(\u001b[0m\u001b[0;36m131\u001b[0m\u001b[0;34m)\u001b[0m\u001b[0;34m\u001b[0m\u001b[0m\n\u001b[0;32m---> 13\u001b[0;31m \u001b[0mplt\u001b[0m\u001b[0;34m.\u001b[0m\u001b[0mimshow\u001b[0m\u001b[0;34m(\u001b[0m\u001b[0mimg_4\u001b[0m\u001b[0;34m)\u001b[0m\u001b[0;34m\u001b[0m\u001b[0m\n\u001b[0m\u001b[1;32m     14\u001b[0m \u001b[0mplt\u001b[0m\u001b[0;34m.\u001b[0m\u001b[0msubplot\u001b[0m\u001b[0;34m(\u001b[0m\u001b[0;36m132\u001b[0m\u001b[0;34m)\u001b[0m\u001b[0;34m\u001b[0m\u001b[0m\n\u001b[1;32m     15\u001b[0m \u001b[0mplt\u001b[0m\u001b[0;34m.\u001b[0m\u001b[0mimshow\u001b[0m\u001b[0;34m(\u001b[0m\u001b[0mflip_Img\u001b[0m\u001b[0;34m)\u001b[0m\u001b[0;34m\u001b[0m\u001b[0m\n",
      "\u001b[0;31mNameError\u001b[0m: name 'img_4' is not defined"
     ]
    },
    {
     "data": {
      "image/png": "[encoded data removed]",
      "text/plain": [
       "<matplotlib.figure.Figure at 0x11d30ea58>"
      ]
     },
     "metadata": {},
     "output_type": "display_data"
    }
   ],
   "source": [
    "path_4 = 'training-images/tv-monitor/'\n",
    "fig = plt.figure(figsize=(15,5))\n",
    "img_4_name = random.choice([x for x in os.listdir(path_4) if os.path.isfile(os.path.join(path_4, x))])\n",
    "img_4_pil = Image.open(os.path.join(path_4,img_4_name)) # read by PIL\n",
    "img_4_numpy = cv2.imread(path_4 + img_4_name) # read by numpy as array\n",
    "flip_Img = flipImg(img_4_numpy)\n",
    "bright_Img = brightnessImg(img_4_numpy)\n",
    "jittering_Img = colorJittering(img_4_numpy)\n",
    "shiftChannel_Img = shiftChannel(img_4_numpy)\n",
    "crop_Img = randCrop(img_4_pil)\n",
    "\n",
    "plt.subplot(131)\n",
    "plt.imshow(img_4_numpy)\n",
    "plt.subplot(132)\n",
    "plt.imshow(flip_Img)\n",
    "plt.subplot(133)\n",
    "plt.imshow(crop_Img)\n"
   ]
  },
  {
   "cell_type": "code",
   "execution_count": null,
   "metadata": {
    "collapsed": false,
    "deletable": true,
    "editable": true
   },
   "outputs": [],
   "source": [
    "# test to see if uncompressing is done properly\n",
    "path_1 = 'training-images/couches/'\n",
    "path_2 = 'training-images/mattresses/'\n",
    "path_3 = 'training-images/tv-monitor/'\n",
    "\n",
    "fig = plt.figure(figsize=(15,5))\n",
    "img_1_name = random.choice([x for x in os.listdir(path_1) if os.path.isfile(os.path.join(path_1, x))])\n",
    "img_2_name = random.choice([x for x in os.listdir(path_2) if os.path.isfile(os.path.join(path_2, x))])\n",
    "img_3_name = random.choice([x for x in os.listdir(path_3) if os.path.isfile(os.path.join(path_3, x))])\n",
    "img_1 = Image.open(os.path.join(path_1,img_1_name))\n",
    "img_2 = Image.open(os.path.join(path_2,img_2_name))\n",
    "img_3 = Image.open(os.path.join(path_3,img_3_name))\n",
    "\n",
    "plt.subplot(131)\n",
    "plt.imshow(img_1)\n",
    "plt.title('couches', fontsize=12)\n",
    "\n",
    "plt.subplot(132)\n",
    "plt.imshow(img_2)\n",
    "plt.title('mattresses', fontsize=12)\n",
    "\n",
    "plt.subplot(133)\n",
    "plt.imshow(img_3)\n",
    "plt.title('tv-monitor', fontsize=12)"
   ]
  },
  {
   "cell_type": "markdown",
   "metadata": {
    "deletable": true,
    "editable": true
   },
   "source": [
    "# Step 2. Create the dataset "
   ]
  },
  {
   "cell_type": "code",
   "execution_count": null,
   "metadata": {
    "collapsed": false,
    "deletable": true,
    "editable": true
   },
   "outputs": [],
   "source": [
    "inception_size = inception_v3.inception_v3.default_image_size\n",
    "image_width, image_height = inception_size, inception_size\n",
    "\n",
    "def do_load(folder, min_num_images, bg_colour=(255, 255, 255)):\n",
    "    image_count = 0\n",
    "    image_files = os.listdir(folder)\n",
    "    dataset = np.ndarray(shape=(len(image_files), image_height, image_width, 3), dtype=np.uint8)\n",
    "    for image in image_files:\n",
    "        file_name, file_extension = os.path.splitext(image)\n",
    "        image_file = os.path.join(folder, image)\n",
    "        try:\n",
    "            img = Image.open(image_file)\n",
    "            # image preprocessing: resize\n",
    "            img = img.resize((image_width, image_height), Image.ANTIALIAS)\n",
    "            img = img.convert(\"RGB\")\n",
    "            img.save(folder + '/' + file_name + '.jpg','JPEG')\n",
    "            image_data = np.array(img, dtype=np.float64)\n",
    "            # image preprocessing: scale\n",
    "            image_data -= np.mean(image_data, axis = 0) # zero center\n",
    "            image_data /= np.std(image_data + 1e-5, axis = 0) # normalize\n",
    "            if image_data.shape != (image_height, image_width, 3):\n",
    "                raise Exception('Unexpected image shape: %s' % str(image_data.shape))\n",
    "            dataset[image_count] = image_data\n",
    "            image_count += 1\n",
    "        except IOError as e:\n",
    "            print('Could not read:', image_file, ':', e, '. Skipped reading.')\n",
    "    \n",
    "    if image_count < min_num_images:\n",
    "        raise Exception('Fewer images than expected: %d < %d' %(image_count, min_num_images))\n",
    "    \n",
    "    print('Full dataset size:', dataset.shape)\n",
    "    print('Mean:', np.mean(dataset))\n",
    "    print('Standard deviation:', np.std(dataset), '\\n')\n",
    "    \n",
    "    return dataset"
   ]
  },
  {
   "cell_type": "markdown",
   "metadata": {
    "deletable": true,
    "editable": true
   },
   "source": [
    "# Step 3. Pickle the dataset"
   ]
  },
  {
   "cell_type": "code",
   "execution_count": null,
   "metadata": {
    "collapsed": false,
    "deletable": true,
    "editable": true
   },
   "outputs": [],
   "source": [
    "def do_pickle(data_folders, min_num_images_per_class, force=False):\n",
    "    dataset_names = []\n",
    "    for folder in data_folders:\n",
    "        pickle_filename = folder + '.pickle'\n",
    "        dataset_names.append(pickle_filename)\n",
    "        if os.path.exists(pickle_filename) and not force:\n",
    "            print('%s already exists. Skipped pickling.' % pickle_filename)\n",
    "        else:\n",
    "            print('Pickling %s...' % pickle_filename)\n",
    "            dataset = do_load(folder, min_num_images_per_class)\n",
    "            try:\n",
    "                with open(pickle_filename, 'wb') as f:\n",
    "                    pickle.dump(dataset, f)\n",
    "            except Exception as e:\n",
    "                print('Unable to save data to ', pickle_filename, ':', e)\n",
    "    return dataset_names\n",
    "\n",
    "train_datasets = do_pickle(train_folders, 10)"
   ]
  },
  {
   "cell_type": "code",
   "execution_count": null,
   "metadata": {
    "collapsed": false,
    "deletable": true,
    "editable": true
   },
   "outputs": [],
   "source": [
    "# test to see if pickling the dataset is done properly\n",
    "path_1p = 'training-images/couches.pickle'\n",
    "path_2p = 'training-images/mattresses.pickle'\n",
    "path_3p = 'training-images/tv-monitor.pickle'\n",
    "\n",
    "with open(path_1p, 'rb') as f1:\n",
    "    train_1 = pickle.load(f1)\n",
    "    img_1p = train_1[random.randint(0, len(train_1)-1)]\n",
    "    del train_1\n",
    "with open(path_2p, 'rb') as f2:\n",
    "    train_2 = pickle.load(f2)\n",
    "    img_2p = train_2[random.randint(0, len(train_2)-1)]\n",
    "    del train_2\n",
    "with open(path_3p, 'rb') as f3:\n",
    "    train_3 = pickle.load(f3)\n",
    "    img_3p = train_3[random.randint(0, len(train_3)-1)]\n",
    "    del train_3\n",
    "    \n",
    "fig = plt.figure(figsize=(15,5))\n",
    "\n",
    "plt.subplot(131)\n",
    "plt.imshow(img_1p)\n",
    "plt.title('couch', fontsize=12)\n",
    "\n",
    "plt.subplot(132)\n",
    "plt.imshow(img_2p)\n",
    "plt.title('mattress', fontsize=12)\n",
    "\n",
    "plt.subplot(133)\n",
    "plt.imshow(img_3p)\n",
    "plt.title('tv-monitor', fontsize=12)"
   ]
  },
  {
   "cell_type": "markdown",
   "metadata": {
    "deletable": true,
    "editable": true
   },
   "source": [
    "# Step 4. Merge all datasets"
   ]
  },
  {
   "cell_type": "code",
   "execution_count": null,
   "metadata": {
    "collapsed": false,
    "deletable": true,
    "editable": true
   },
   "outputs": [],
   "source": [
    "def create_dataset(batch_size, image_height, image_width):\n",
    "    features = np.ndarray(shape=(batch_size, image_height, image_width, 3), dtype=np.uint8)\n",
    "    labels = np.ndarray(batch_size, dtype=np.int32)\n",
    "    return features, labels\n",
    "\n",
    "def merge_datasets(pickle_files, train_size):\n",
    "    num_classes, train_offset = len(pickle_files), 0\n",
    "    train_size_per_class = train_size // num_classes\n",
    "    train_dataset, train_labels = create_dataset(train_size, image_height, image_width)\n",
    "    for label, pickle_file in enumerate(pickle_files):  \n",
    "        try:\n",
    "            with open(pickle_file, 'rb') as f:\n",
    "                item_set = pickle.load(f)\n",
    "                np.random.shuffle(item_set)\n",
    "                train_item = item_set[:train_size_per_class, :, :]\n",
    "                del item_set\n",
    "                train_dataset[train_offset:train_offset+train_size_per_class, :, :] = train_item\n",
    "                train_labels[train_offset:train_offset+train_size_per_class] = label\n",
    "                train_offset += train_size_per_class\n",
    "        except Exception as e:\n",
    "            print('Unable to process data from ', pickle_file, ':', e)\n",
    "    return train_dataset, train_labels\n",
    "\n",
    "train_size = 10\n",
    "train_features, train_labels = merge_datasets(train_datasets, train_size) \n",
    "train_features, train_labels = train_features[:-1], train_labels[:-1] # get rid of the last label\n",
    "print('Training:', train_features.shape, train_labels.shape)"
   ]
  },
  {
   "cell_type": "markdown",
   "metadata": {
    "deletable": true,
    "editable": true
   },
   "source": [
    "# Step 5. Pickle and create train/val/test datasets"
   ]
  },
  {
   "cell_type": "code",
   "execution_count": null,
   "metadata": {
    "collapsed": false,
    "deletable": true,
    "editable": true
   },
   "outputs": [],
   "source": [
    "train = {}\n",
    "train['features'], train['label'] = train_features, train_labels\n",
    "\n",
    "with open('train.pickle', 'wb') as f4:\n",
    "    pickle.dump(train, f4, protocol=pickle.HIGHEST_PROTOCOL)\n",
    "with open('train.pickle', 'rb') as f5:\n",
    "    data = pickle.load(f5)\n",
    "\n",
    "X_train, X_test, y_train, y_test = train_test_split(data['features'], data['label'], test_size=0.3, random_state=0)\n",
    "X_train, X_val, y_train, y_val = train_test_split(data['features'], data['label'], test_size=0.2, random_state=0)"
   ]
  },
  {
   "cell_type": "code",
   "execution_count": null,
   "metadata": {
    "collapsed": false,
    "deletable": true,
    "editable": true
   },
   "outputs": [],
   "source": [
    "# test to see if the unpickled training/test datasets are right\n",
    "class_map = {0:'couch', 1:'mattress', 2:'tv-monitor'}\n",
    "rand_train, rand_val, rand_test = random.randint(0, len(X_train)-1), random.randint(0, len(X_val)-1), random.randint(0, len(X_test)-1)\n",
    "\n",
    "fig = plt.figure(figsize=(15,5))\n",
    "img_train, img_val, img_test = X_train[rand_train], X_val[rand_val], X_test[rand_test]\n",
    "\n",
    "plt.subplot(131)\n",
    "plt.imshow(img_1p)\n",
    "plt.title('training set. class label: %s' % class_map[y_train[rand_train]], fontsize=12)\n",
    "\n",
    "plt.subplot(132)\n",
    "plt.imshow(img_2p)\n",
    "plt.title('validation set. class label: %s' % class_map[y_train[rand_val]], fontsize=12)\n",
    "\n",
    "plt.subplot(133)\n",
    "plt.imshow(img_3p)\n",
    "plt.title('test set. class label: %s' % class_map[y_train[rand_test]], fontsize=12)"
   ]
  },
  {
   "cell_type": "markdown",
   "metadata": {
    "deletable": true,
    "editable": true
   },
   "source": [
    "Credits: \n",
    "<ul>\n",
    "<li>https://github.com/tensorflow/tensorflow/blob/master/tensorflow/examples/udacity/1_notmnist.ipynb</li>\n",
    "</ul>"
   ]
  }
 ],
 "metadata": {
  "anaconda-cloud": {},
  "kernelspec": {
   "display_name": "Python 3",
   "language": "python",
   "name": "python3"
  },
  "language_info": {
   "codemirror_mode": {
    "name": "ipython",
    "version": 3
   },
   "file_extension": ".py",
   "mimetype": "text/x-python",
   "name": "python",
   "nbconvert_exporter": "python",
   "pygments_lexer": "ipython3",
   "version": "3.5.2"
  },
  "widgets": {
   "state": {},
   "version": "1.1.2"
  }
 },
 "nbformat": 4,
 "nbformat_minor": 2
}
