{
 "cells": [
  {
   "cell_type": "markdown",
   "metadata": {
    "deletable": true,
    "editable": true
   },
   "source": [
    "# Step 0. Import libraries"
   ]
  },
  {
   "cell_type": "code",
   "execution_count": null,
   "metadata": {
    "collapsed": false,
    "deletable": true,
    "editable": true
   },
   "outputs": [],
   "source": [
    "import os\n",
    "import random\n",
    "import numpy as np\n",
    "import tarfile\n",
    "import sys\n",
    "import pickle\n",
    "from PIL import Image\n",
    "from sklearn.model_selection import train_test_split\n",
    "from tensorflow.contrib.slim.python.slim.nets import inception_v3\n",
    "import matplotlib.pyplot as plt\n",
    "%matplotlib inline"
   ]
  },
  {
   "cell_type": "markdown",
   "metadata": {
    "deletable": true,
    "editable": true
   },
   "source": [
    "# Step 1. Uncompress the image folder"
   ]
  },
  {
   "cell_type": "code",
   "execution_count": null,
   "metadata": {
    "collapsed": false,
    "deletable": true,
    "editable": true
   },
   "outputs": [],
   "source": [
    "num_classes = 3\n",
    "train_filename = 'training-images.tar.gz'\n",
    "\n",
    "def do_extract(filename, force=False):\n",
    "    root = os.path.splitext(os.path.splitext(filename)[0])[0] # remove .tar.gz\n",
    "    if os.path.isdir(root) and not force:\n",
    "        print('%s already exists. Skipping extracting %s.' % (root, filename))\n",
    "    else:\n",
    "        print('Extracting data for %s...' % root)\n",
    "        tar = tarfile.open(filename, \"r:gz\")\n",
    "        tar.extractall()\n",
    "        tar.close()\n",
    "    data_folders = [os.path.join(root, d) for d in sorted(os.listdir(root)) if os.path.isdir(os.path.join(root, d))]\n",
    "    if len(data_folders) != num_classes:\n",
    "        raise Exception('Expected %d folders, one per class. Found %d instead.' % (num_classes, len(data_folders)))\n",
    "    print(data_folders)\n",
    "    return data_folders\n",
    "\n",
    "train_folders = do_extract(train_filename)"
   ]
  },
  {
   "cell_type": "code",
   "execution_count": null,
   "metadata": {
    "collapsed": false,
    "deletable": true,
    "editable": true
   },
   "outputs": [],
   "source": [
    "def do_remove(folder):\n",
    "    image_files = os.listdir(folder)\n",
    "    for image in image_files:\n",
    "        image_file = os.path.join(folder, image)\n",
    "        try:\n",
    "            image = Image.open(image_file)\n",
    "        except IOError as e:\n",
    "            os.remove(image_file)\n",
    "            print('Removed %s' % image_file)\n",
    "\n",
    "do_remove('training-images/couches/')\n",
    "do_remove('training-images/mattresses/')\n",
    "do_remove('training-images/tv-monitor/')"
   ]
  },
  {
   "cell_type": "code",
   "execution_count": null,
   "metadata": {
    "collapsed": false,
    "deletable": true,
    "editable": true
   },
   "outputs": [],
   "source": [
    "# test to see if uncompressing is done properly\n",
    "path_1 = 'training-images/couches/'\n",
    "path_2 = 'training-images/mattresses/'\n",
    "path_3 = 'training-images/tv-monitor/'\n",
    "\n",
    "fig = plt.figure(figsize=(15,5))\n",
    "img_1_name = random.choice([x for x in os.listdir(path_1) if os.path.isfile(os.path.join(path_1, x))])\n",
    "img_2_name = random.choice([x for x in os.listdir(path_2) if os.path.isfile(os.path.join(path_2, x))])\n",
    "img_3_name = random.choice([x for x in os.listdir(path_3) if os.path.isfile(os.path.join(path_3, x))])\n",
    "img_1 = Image.open(os.path.join(path_1,img_1_name))\n",
    "img_2 = Image.open(os.path.join(path_2,img_2_name))\n",
    "img_3 = Image.open(os.path.join(path_3,img_3_name))\n",
    "\n",
    "plt.subplot(131)\n",
    "plt.imshow(img_1)\n",
    "plt.title('couches', fontsize=12)\n",
    "\n",
    "plt.subplot(132)\n",
    "plt.imshow(img_2)\n",
    "plt.title('mattresses', fontsize=12)\n",
    "\n",
    "plt.subplot(133)\n",
    "plt.imshow(img_3)\n",
    "plt.title('tv-monitor', fontsize=12)"
   ]
  },
  {
   "cell_type": "markdown",
   "metadata": {
    "deletable": true,
    "editable": true
   },
   "source": [
    "# Step 2. Create the dataset "
   ]
  },
  {
   "cell_type": "code",
   "execution_count": null,
   "metadata": {
    "collapsed": false,
    "deletable": true,
    "editable": true
   },
   "outputs": [],
   "source": [
    "inception_size = inception_v3.inception_v3.default_image_size\n",
    "image_width, image_height = inception_size, inception_size\n",
    "\n",
    "def do_load(folder, min_num_images, bg_colour=(255, 255, 255)):\n",
    "    image_count = 0\n",
    "    image_files = os.listdir(folder)\n",
    "    dataset = np.ndarray(shape=(len(image_files), image_height, image_width, 3), dtype=np.uint8)\n",
    "    for image in image_files:\n",
    "        file_name, file_extension = os.path.splitext(image)\n",
    "        image_file = os.path.join(folder, image)\n",
    "        try:\n",
    "            img = Image.open(image_file)\n",
    "            # image preprocessing: resize\n",
    "            img = img.resize((image_width, image_height), Image.ANTIALIAS)\n",
    "            img = img.convert(\"RGB\")\n",
    "            img.save(folder + '/' + file_name + '.jpg','JPEG')\n",
    "            image_data = np.array(img, dtype=np.float64)\n",
    "            # image preprocessing: scale\n",
    "            image_data -= np.mean(image_data, axis = 0) # zero center\n",
    "            image_data /= np.std(image_data + 1e-5, axis = 0) # normalize\n",
    "            if image_data.shape != (image_height, image_width, 3):\n",
    "                raise Exception('Unexpected image shape: %s' % str(image_data.shape))\n",
    "            dataset[image_count] = image_data\n",
    "            image_count += 1\n",
    "        except IOError as e:\n",
    "            print('Could not read:', image_file, ':', e, '. Skipped reading.')\n",
    "    \n",
    "    if image_count < min_num_images:\n",
    "        raise Exception('Fewer images than expected: %d < %d' %(image_count, min_num_images))\n",
    "    \n",
    "    print('Full dataset size:', dataset.shape)\n",
    "    print('Mean:', np.mean(dataset))\n",
    "    print('Standard deviation:', np.std(dataset), '\\n')\n",
    "    \n",
    "    return dataset"
   ]
  },
  {
   "cell_type": "markdown",
   "metadata": {
    "deletable": true,
    "editable": true
   },
   "source": [
    "# Step 3. Pickle the dataset"
   ]
  },
  {
   "cell_type": "code",
   "execution_count": null,
   "metadata": {
    "collapsed": false,
    "deletable": true,
    "editable": true
   },
   "outputs": [],
   "source": [
    "def do_pickle(data_folders, min_num_images_per_class, force=False):\n",
    "    dataset_names = []\n",
    "    for folder in data_folders:\n",
    "        pickle_filename = folder + '.pickle'\n",
    "        dataset_names.append(pickle_filename)\n",
    "        if os.path.exists(pickle_filename) and not force:\n",
    "            print('%s already exists. Skipped pickling.' % pickle_filename)\n",
    "        else:\n",
    "            print('Pickling %s...' % pickle_filename)\n",
    "            dataset = do_load(folder, min_num_images_per_class)\n",
    "            try:\n",
    "                with open(pickle_filename, 'wb') as f:\n",
    "                    pickle.dump(dataset, f)\n",
    "            except Exception as e:\n",
    "                print('Unable to save data to ', pickle_filename, ':', e)\n",
    "    return dataset_names\n",
    "\n",
    "train_datasets = do_pickle(train_folders, 10)"
   ]
  },
  {
   "cell_type": "code",
   "execution_count": null,
   "metadata": {
    "collapsed": false,
    "deletable": true,
    "editable": true
   },
   "outputs": [],
   "source": [
    "# test to see if pickling the dataset is done properly\n",
    "path_1p = 'training-images/couches.pickle'\n",
    "path_2p = 'training-images/mattresses.pickle'\n",
    "path_3p = 'training-images/tv-monitor.pickle'\n",
    "\n",
    "with open(path_1p, 'rb') as f1:\n",
    "    train_1 = pickle.load(f1)\n",
    "    img_1p = train_1[random.randint(0, len(train_1)-1)]\n",
    "    del train_1\n",
    "with open(path_2p, 'rb') as f2:\n",
    "    train_2 = pickle.load(f2)\n",
    "    img_2p = train_2[random.randint(0, len(train_2)-1)]\n",
    "    del train_2\n",
    "with open(path_3p, 'rb') as f3:\n",
    "    train_3 = pickle.load(f3)\n",
    "    img_3p = train_3[random.randint(0, len(train_3)-1)]\n",
    "    del train_3\n",
    "    \n",
    "fig = plt.figure(figsize=(15,5))\n",
    "\n",
    "plt.subplot(131)\n",
    "plt.imshow(img_1p)\n",
    "plt.title('couch', fontsize=12)\n",
    "\n",
    "plt.subplot(132)\n",
    "plt.imshow(img_2p)\n",
    "plt.title('mattress', fontsize=12)\n",
    "\n",
    "plt.subplot(133)\n",
    "plt.imshow(img_3p)\n",
    "plt.title('tv-monitor', fontsize=12)"
   ]
  },
  {
   "cell_type": "markdown",
   "metadata": {
    "deletable": true,
    "editable": true
   },
   "source": [
    "# Step 4. Merge all datasets"
   ]
  },
  {
   "cell_type": "code",
   "execution_count": null,
   "metadata": {
    "collapsed": false,
    "deletable": true,
    "editable": true
   },
   "outputs": [],
   "source": [
    "def create_dataset(batch_size, image_height, image_width):\n",
    "    features = np.ndarray(shape=(batch_size, image_height, image_width, 3), dtype=np.uint8)\n",
    "    labels = np.ndarray(batch_size, dtype=np.int32)\n",
    "    return features, labels\n",
    "\n",
    "def merge_datasets(pickle_files, train_size):\n",
    "    num_classes, train_offset = len(pickle_files), 0\n",
    "    train_size_per_class = train_size // num_classes\n",
    "    train_dataset, train_labels = create_dataset(train_size, image_height, image_width)\n",
    "    for label, pickle_file in enumerate(pickle_files):  \n",
    "        try:\n",
    "            with open(pickle_file, 'rb') as f:\n",
    "                item_set = pickle.load(f)\n",
    "                np.random.shuffle(item_set)\n",
    "                train_item = item_set[:train_size_per_class, :, :]\n",
    "                del item_set\n",
    "                train_dataset[train_offset:train_offset+train_size_per_class, :, :] = train_item\n",
    "                train_labels[train_offset:train_offset+train_size_per_class] = label\n",
    "                train_offset += train_size_per_class\n",
    "        except Exception as e:\n",
    "            print('Unable to process data from ', pickle_file, ':', e)\n",
    "    return train_dataset, train_labels\n",
    "\n",
    "train_size = 10\n",
    "train_features, train_labels = merge_datasets(train_datasets, train_size) \n",
    "train_features, train_labels = train_features[:-1], train_labels[:-1] # get rid of the last label\n",
    "print('Training:', train_features.shape, train_labels.shape)"
   ]
  },
  {
   "cell_type": "markdown",
   "metadata": {
    "deletable": true,
    "editable": true
   },
   "source": [
    "# Step 5. Pickle and create train/val/test datasets"
   ]
  },
  {
   "cell_type": "code",
   "execution_count": null,
   "metadata": {
    "collapsed": false,
    "deletable": true,
    "editable": true
   },
   "outputs": [],
   "source": [
    "train = {}\n",
    "train['features'], train['label'] = train_features, train_labels\n",
    "\n",
    "with open('train.pickle', 'wb') as f4:\n",
    "    pickle.dump(train, f4, protocol=pickle.HIGHEST_PROTOCOL)\n",
    "with open('train.pickle', 'rb') as f5:\n",
    "    data = pickle.load(f5)\n",
    "\n",
    "X_train, X_test, y_train, y_test = train_test_split(data['features'], data['label'], test_size=0.3, random_state=0)\n",
    "X_train, X_val, y_train, y_val = train_test_split(data['features'], data['label'], test_size=0.2, random_state=0)"
   ]
  },
  {
   "cell_type": "code",
   "execution_count": null,
   "metadata": {
    "collapsed": false,
    "deletable": true,
    "editable": true
   },
   "outputs": [],
   "source": [
    "# test to see if the unpickled training/test datasets are right\n",
    "class_map = {0:'couch', 1:'mattress', 2:'tv-monitor'}\n",
    "rand_train, rand_val, rand_test = random.randint(0, len(X_train)-1), random.randint(0, len(X_val)-1), random.randint(0, len(X_test)-1)\n",
    "\n",
    "fig = plt.figure(figsize=(15,5))\n",
    "img_train, img_val, img_test = X_train[rand_train], X_val[rand_val], X_test[rand_test]\n",
    "\n",
    "plt.subplot(131)\n",
    "plt.imshow(img_1p)\n",
    "plt.title('training set. class label: %s' % class_map[y_train[rand_train]], fontsize=12)\n",
    "\n",
    "plt.subplot(132)\n",
    "plt.imshow(img_2p)\n",
    "plt.title('validation set. class label: %s' % class_map[y_train[rand_val]], fontsize=12)\n",
    "\n",
    "plt.subplot(133)\n",
    "plt.imshow(img_3p)\n",
    "plt.title('test set. class label: %s' % class_map[y_train[rand_test]], fontsize=12)"
   ]
  },
  {
   "cell_type": "markdown",
   "metadata": {
    "deletable": true,
    "editable": true
   },
   "source": [
    "Credits: \n",
    "<ul>\n",
    "<li>https://github.com/tensorflow/tensorflow/blob/master/tensorflow/examples/udacity/1_notmnist.ipynb</li>\n",
    "</ul>"
   ]
  }
 ],
 "metadata": {
  "anaconda-cloud": {},
  "kernelspec": {
   "display_name": "Python 3",
   "language": "python",
   "name": "python3"
  },
  "language_info": {
   "codemirror_mode": {
    "name": "ipython",
    "version": 3
   },
   "file_extension": ".py",
   "mimetype": "text/x-python",
   "name": "python",
   "nbconvert_exporter": "python",
   "pygments_lexer": "ipython3",
   "version": "3.5.0"
  },
  "widgets": {
   "state": {},
   "version": "1.1.2"
  }
 },
 "nbformat": 4,
 "nbformat_minor": 2
}
