{
 "cells": [
  {
   "cell_type": "markdown",
   "metadata": {},
   "source": [
    "# Step 0. Import libraries"
   ]
  },
  {
   "cell_type": "code",
   "execution_count": null,
   "metadata": {
    "collapsed": false
   },
   "outputs": [],
   "source": [
    "import os\n",
    "import random\n",
    "import numpy as np\n",
    "import tarfile\n",
    "import sys\n",
    "from scipy import ndimage\n",
    "import pickle\n",
    "from PIL import Image\n",
    "import matplotlib.pyplot as plt\n",
    "%matplotlib inline"
   ]
  },
  {
   "cell_type": "markdown",
   "metadata": {},
   "source": [
    "# Step 1. Uncompress the folder"
   ]
  },
  {
   "cell_type": "code",
   "execution_count": null,
   "metadata": {
    "collapsed": false
   },
   "outputs": [],
   "source": [
    "num_classes = 3\n",
    "train_filename = 'training-images.tar.gz'\n",
    "#test_filename = 'test-images.tar.gz'\n",
    "\n",
    "def do_extract(filename, force=False):\n",
    "    # remove .tar.gz\n",
    "    root = os.path.splitext(os.path.splitext(filename)[0])[0]  \n",
    "    # check whether the uncompressed file already exists\n",
    "    if os.path.isdir(root) and not force:\n",
    "        print('%s already exists. Skipping extracting %s.' % (root, filename))\n",
    "    else:\n",
    "        print('Extracting data for %s...' % root)\n",
    "        tar = tarfile.open(filename)\n",
    "        sys.stdout.flush()\n",
    "        tar.extractall()\n",
    "        tar.close()\n",
    "    data_folders = [os.path.join(root, d) for d in sorted(os.listdir(root)) if os.path.isdir(os.path.join(root, d))]\n",
    "    if len(data_folders) != num_classes:\n",
    "        raise Exception('Expected %d folders, one per class. Found %d instead.' % (num_classes, len(data_folders)))\n",
    "    print(data_folders)\n",
    "    return data_folders\n",
    "\n",
    "train_folders = do_extract(train_filename)\n",
    "#test_folders = do_extract(test_filename)"
   ]
  },
  {
   "cell_type": "code",
   "execution_count": null,
   "metadata": {
    "collapsed": false
   },
   "outputs": [],
   "source": [
    "def do_remove(folder):\n",
    "    image_files = os.listdir(folder)\n",
    "    for image in image_files:\n",
    "        image_file = os.path.join(folder, image)\n",
    "        try:\n",
    "            image = Image.open(image_file)\n",
    "        except IOError as e:\n",
    "            os.remove(image_file)\n",
    "            print('Removed ', image_file)\n",
    "\n",
    "do_remove('training-images/couches')\n",
    "do_remove('training-images/mattresses')\n",
    "do_remove('training-images/tv-monitor')"
   ]
  },
  {
   "cell_type": "code",
   "execution_count": null,
   "metadata": {
    "collapsed": false
   },
   "outputs": [],
   "source": [
    "path_1 = 'training-images/couches/'\n",
    "path_2 = 'training-images/mattresses/'\n",
    "path_3 = 'training-images/tv-monitor/'\n",
    "\n",
    "fig = plt.figure(figsize=(15,5))\n",
    "img_1_name = random.choice([x for x in os.listdir(path_1) if os.path.isfile(os.path.join(path_1, x))])\n",
    "img_2_name = random.choice([x for x in os.listdir(path_2) if os.path.isfile(os.path.join(path_2, x))])\n",
    "img_3_name = random.choice([x for x in os.listdir(path_3) if os.path.isfile(os.path.join(path_3, x))])\n",
    "img_1 = Image.open(path_1+img_1_name)\n",
    "img_2 = Image.open(path_2+img_2_name)\n",
    "img_3 = Image.open(path_3+img_3_name)\n",
    "\n",
    "plt.subplot(131)\n",
    "plt.imshow(img_1)\n",
    "plt.title('couches', fontsize=12)\n",
    "\n",
    "plt.subplot(132)\n",
    "plt.imshow(img_2)\n",
    "plt.title('mattresses', fontsize=12)\n",
    "\n",
    "plt.subplot(133)\n",
    "plt.imshow(img_3)\n",
    "plt.title('tv-monitor', fontsize=12)"
   ]
  },
  {
   "cell_type": "markdown",
   "metadata": {},
   "source": [
    "# Step 2. Create the dataset "
   ]
  },
  {
   "cell_type": "code",
   "execution_count": null,
   "metadata": {
    "collapsed": false
   },
   "outputs": [],
   "source": [
    "# debug here 1/28\n",
    "image_width, image_height = 500, 375\n",
    "\n",
    "def do_load(folder, min_num_images):\n",
    "    num_images = 0\n",
    "    image_files = os.listdir(folder)\n",
    "    dataset = np.ndarray(shape=(len(image_files), image_height, image_width, 3), dtype=np.float32)\n",
    "    for image in image_files:\n",
    "        image_file = os.path.join(folder, image)\n",
    "        try:\n",
    "            image_data = np.asarray(Image.open(image_file))\n",
    "            if image_data.shape != (image_height, image_width, 3):\n",
    "                raise Exception('Unexpected image shape: %s' % str(image_data.shape))\n",
    "            dataset[num_images, :, :, :] = image_data\n",
    "            num_images += 1\n",
    "        except IOError as e:\n",
    "            print('Could not read:', image_file, ':', e, '. Skipped reading.')\n",
    "    \n",
    "    dataset = dataset[0: num_images, :, :]\n",
    "    if num_images < min_num_images:\n",
    "        raise Exception('Fewer images than expected: %d < %d' %(num_images, min_num_images))\n",
    "    \n",
    "    print('Full dataset tensor:', dataset.shape)\n",
    "    print('Mean:', np.mean(dataset))\n",
    "    print('Standard deviation:', np.std(dataset))\n",
    "    \n",
    "    return dataset"
   ]
  },
  {
   "cell_type": "markdown",
   "metadata": {},
   "source": [
    "# Step 3. Pickle the dataset"
   ]
  },
  {
   "cell_type": "code",
   "execution_count": null,
   "metadata": {
    "collapsed": true
   },
   "outputs": [],
   "source": [
    "# debug here 1/28\n",
    "def do_pickle(data_folders, min_num_images_per_class, force=False):\n",
    "    dataset_names = []\n",
    "    for folder in data_folders:\n",
    "        pickle_filename = folder + '.pickle'\n",
    "        dataset_names.append(pickle_filename)\n",
    "        if os.path.exists(pickle_filename) and not force:\n",
    "            print('%s already exists. Skipped pickling.' % pickle_filename)\n",
    "        else:\n",
    "            print('Pickling %s...' % pickle_filename)\n",
    "            dataset = do_load(folder, min_num_images_per_class)\n",
    "            try:\n",
    "                with open(pickle_filename, 'wb') as f:\n",
    "                    pickle.dump(dataset, f, pickle.HIGHEST_PROTOCOL)\n",
    "            except Exception as e:\n",
    "                print('Unable to save data to', pickle_filename, ':', e)\n",
    "    \n",
    "    return dataset_names"
   ]
  },
  {
   "cell_type": "code",
   "execution_count": null,
   "metadata": {
    "collapsed": false
   },
   "outputs": [],
   "source": [
    "train_datasets = do_pickle(train_folders, 5)\n",
    "#test_datasets = do_pickle(test_folders, 1800)"
   ]
  },
  {
   "cell_type": "code",
   "execution_count": null,
   "metadata": {
    "collapsed": false
   },
   "outputs": [],
   "source": [
    "path_1p = 'training-images/couches.pickle'\n",
    "path_2p = 'training-images/mattresses.pickle'\n",
    "path_3p = 'training-images/tv-monitor.pickle'\n",
    "\n",
    "with open(path_1p, 'rb') as f1:\n",
    "    train_1 = pickle.load(f1)\n",
    "with open(path_2p, 'rb') as f2:\n",
    "    train_2 = pickle.load(f2)\n",
    "with open(path_3p, 'rb') as f3:\n",
    "    train_3 = pickle.load(f3)\n",
    "    \n",
    "fig = plt.figure(figsize=(15,5))\n",
    "img_1p = train_1[10] # change this\n",
    "img_2p = train_2[6] # change this\n",
    "img_3p = train_3[5] # change this\n",
    "\n",
    "plt.subplot(131)\n",
    "plt.imshow(img_1p)\n",
    "plt.title('couches', fontsize=12)\n",
    "\n",
    "plt.subplot(132)\n",
    "plt.imshow(img_2p)\n",
    "plt.title('mattresses', fontsize=12)\n",
    "\n",
    "plt.subplot(133)\n",
    "plt.imshow(img_3p)\n",
    "plt.title('tv-monitor', fontsize=12)"
   ]
  },
  {
   "cell_type": "markdown",
   "metadata": {},
   "source": [
    "# Merge all datasets"
   ]
  },
  {
   "cell_type": "code",
   "execution_count": null,
   "metadata": {
    "collapsed": true
   },
   "outputs": [],
   "source": [
    "def create_dataset(batch_size, image_height, image_width):\n",
    "    features = np.ndarray(shape=(batch_size, image_height, image_width, 3), dtype=np.float32)\n",
    "    labels = np.ndarray(batch_size, dtype=np.int32)\n",
    "    return features, labels\n",
    "\n",
    "def merge_datasets(pickle_files, train_size):\n",
    "    num_classes = len(pickle_files)\n",
    "    train_size_per_class = train_size // num_classes\n",
    "    train_dataset, train_labels = create_dataset(train_size, image_height, image_width)\n",
    "    train_offset = 0\n",
    "    \n",
    "    for label, pickle_file in enumerate(pickle_files):  \n",
    "        try:\n",
    "            with open(pickle_file, 'rb') as f:\n",
    "                item_set = pickle.load(f)\n",
    "                np.random.shuffle(item_set)\n",
    "                train_item = item_set[:train_size_per_class, :, :]\n",
    "                train_dataset[train_offset:train_offset+train_size_per_class, :, :] = train_item\n",
    "                train_labels[train_offset:train_offset+train_size_per_class] = label\n",
    "                train_offset += train_size_per_class\n",
    "        \n",
    "        except Exception as e:\n",
    "            print('Unable to process data from', pickle_file, ':', e)\n",
    "            \n",
    "    return train_dataset, train_labels"
   ]
  },
  {
   "cell_type": "code",
   "execution_count": null,
   "metadata": {
    "collapsed": false
   },
   "outputs": [],
   "source": [
    "train_size = 10\n",
    "#test_size = 10000\n",
    "\n",
    "train_dataset, train_labels = merge_datasets(train_datasets, train_size)\n",
    "#_, _, test_dataset, test_labels = merge_datasets(test_datasets, test_size)\n",
    "\n",
    "print('Training:', train_dataset.shape, train_labels.shape)\n",
    "# print('Testing:', test_dataset.shape, test_labels.shape)"
   ]
  },
  {
   "cell_type": "code",
   "execution_count": null,
   "metadata": {
    "collapsed": false
   },
   "outputs": [],
   "source": [
    "img = train_dataset[3]\n",
    "plt.imshow(img)\n",
    "train_labels[3]"
   ]
  },
  {
   "cell_type": "markdown",
   "metadata": {},
   "source": [
    "Credits: \n",
    "<ul>\n",
    "<li>https://github.com/tensorflow/tensorflow/blob/master/tensorflow/examples/udacity/1_notmnist.ipynb</li>\n",
    "</ul>"
   ]
  }
 ],
 "metadata": {
  "kernelspec": {
   "display_name": "Python 3",
   "language": "python",
   "name": "python3"
  },
  "language_info": {
   "codemirror_mode": {
    "name": "ipython",
    "version": 3
   },
   "file_extension": ".py",
   "mimetype": "text/x-python",
   "name": "python",
   "nbconvert_exporter": "python",
   "pygments_lexer": "ipython3",
   "version": "3.5.2"
  },
  "widgets": {
   "state": {},
   "version": "1.1.2"
  }
 },
 "nbformat": 4,
 "nbformat_minor": 2
}
