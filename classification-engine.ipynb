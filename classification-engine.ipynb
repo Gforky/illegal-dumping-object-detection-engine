{
 "cells": [
  {
   "cell_type": "markdown",
   "metadata": {},
   "source": [
    "# Step 0. Import libraries"
   ]
  },
  {
   "cell_type": "code",
   "execution_count": null,
   "metadata": {
    "collapsed": false
   },
   "outputs": [],
   "source": [
    "import os\n",
    "import numpy as np\n",
    "import tarfile\n",
    "import sys\n",
    "from scipy import ndimage\n",
    "import pickle\n",
    "from PIL import Image\n",
    "import matplotlib.pyplot as plt\n",
    "%matplotlib inline"
   ]
  },
  {
   "cell_type": "markdown",
   "metadata": {},
   "source": [
    "# Step 1. Uncompress the folder"
   ]
  },
  {
   "cell_type": "code",
   "execution_count": null,
   "metadata": {
    "collapsed": false
   },
   "outputs": [],
   "source": [
    "num_classes = 3\n",
    "train_filename = 'training-images.tar.gz'\n",
    "#test_filename = 'test-images.tar.gz'\n",
    "\n",
    "def do_extract(filename, force=False):\n",
    "    # remove .tar.gz\n",
    "    root = os.path.splitext(os.path.splitext(filename)[0])[0]  \n",
    "    # check whether the uncompressed file already exists\n",
    "    if os.path.isdir(root) and not force:\n",
    "        print('%s already exists. Skipping extracting %s.' % (root, filename))\n",
    "    else:\n",
    "        print('Extracting data for %s...' % root)\n",
    "        tar = tarfile.open(filename)\n",
    "        sys.stdout.flush()\n",
    "        tar.extractall()\n",
    "        tar.close()\n",
    "    data_folders = [os.path.join(root, d) for d in sorted(os.listdir(root)) if os.path.isdir(os.path.join(root, d))]\n",
    "    if len(data_folders) != num_classes:\n",
    "        raise Exception('Expected %d folders, one per class. Found %d instead.' % (num_classes, len(data_folders)))\n",
    "    print(data_folders)\n",
    "    return data_folders\n",
    "\n",
    "train_folders = do_extract(train_filename)\n",
    "#test_folders = do_extract(test_filename)"
   ]
  },
  {
   "cell_type": "code",
   "execution_count": null,
   "metadata": {
    "collapsed": false
   },
   "outputs": [],
   "source": [
    "# test uncompressed images\n",
    "path = 'training-images/couches/01.02.16 GT Route 010.JPG'\n",
    "img = Image.open(path)\n",
    "plt.imshow(img)"
   ]
  },
  {
   "cell_type": "markdown",
   "metadata": {},
   "source": [
    "# Step 3. Create the dataset "
   ]
  },
  {
   "cell_type": "code",
   "execution_count": null,
   "metadata": {
    "collapsed": false
   },
   "outputs": [],
   "source": [
    "image_width, image_height = 500, 375\n",
    "\n",
    "def do_load(folder, min_num_images):\n",
    "    image_files = os.listdir(folder)\n",
    "    dataset = np.ndarray(shape=(len(image_files), image_height, image_width, 3), dtype=np.float32)\n",
    "    num_images = 0\n",
    "    for image in image_files:\n",
    "        image_file = os.path.join(folder, image)\n",
    "        try:\n",
    "            image_data = np.asarray(Image.open(image_file))\n",
    "            print(image_data.shape)\n",
    "            # raise an exception if the shape still doesn't conform\n",
    "            if image_data.shape != (image_height, image_width, 3):\n",
    "                raise Exception('Unexpected image shape: %s' % str(image_data.shape))\n",
    "            dataset[num_images, :, :, :] = image_data\n",
    "            num_images += 1\n",
    "        except IOError as e:\n",
    "            print('Could not read:', image_file, ':', e, '- skipped.')\n",
    "    \n",
    "    dataset = dataset[0: num_images, :, :]\n",
    "    if num_images < min_num_images:\n",
    "        raise Exception('Fewer images than expected: %d < %d' %(num_images, min_num_images))\n",
    "\n",
    "    print('Full dataset tensor:', dataset.shape)\n",
    "    print('Mean:', np.mean(dataset))\n",
    "    print('Standard deviation:', np.std(dataset))\n",
    "    return dataset"
   ]
  },
  {
   "cell_type": "markdown",
   "metadata": {},
   "source": [
    "# Step 4. Pickle the dataset"
   ]
  },
  {
   "cell_type": "code",
   "execution_count": null,
   "metadata": {
    "collapsed": true
   },
   "outputs": [],
   "source": [
    "def do_pickle(data_folders, min_num_images_per_class, force=False):\n",
    "    dataset_names = []\n",
    "    for folder in data_folders:\n",
    "        pickle_filename = folder + '.pickle'\n",
    "        dataset_names.append(pickle_filename)\n",
    "        if os.path.exists(pickle_filename) and not force:\n",
    "            print('%s already exists. Skippped pickling.' % pickle_filename)\n",
    "        else:\n",
    "            print('Pickling %s...' % pickle_filename)\n",
    "            dataset = do_load(folder, min_num_images_per_class)\n",
    "            try:\n",
    "                with open(pickle_filename, 'wb') as f:\n",
    "                    pickle.dump(dataset, f, pickle.HIGHEST_PROTOCOL)\n",
    "            except Exception as e:\n",
    "                print('Unable to save data to', pickle_filename, ':', e)\n",
    "    return dataset_names"
   ]
  },
  {
   "cell_type": "code",
   "execution_count": null,
   "metadata": {
    "collapsed": false
   },
   "outputs": [],
   "source": [
    "train_datasets = do_pickle(train_folders, 3)\n",
    "#test_datasets = do_pickle(test_folders, 1800)"
   ]
  },
  {
   "cell_type": "code",
   "execution_count": null,
   "metadata": {
    "collapsed": false
   },
   "outputs": [],
   "source": [
    "train_path = 'training-images/couches.pickle'\n",
    "with open(train_path, 'rb') as f:\n",
    "    train = pickle.load(f)\n",
    "train.shape\n",
    "img = train[1]\n",
    "plt.imshow(img)"
   ]
  },
  {
   "cell_type": "code",
   "execution_count": null,
   "metadata": {
    "collapsed": true
   },
   "outputs": [],
   "source": [
    "def create_dataset(batch_size, image_height, image_width):\n",
    "    features = np.ndarray(shape=(batch_size, image_height, image_width, 3), dtype=np.float32)\n",
    "    labels = np.ndarray(batch_size, dtype=np.int32)\n",
    "    return features, labels\n",
    "\n",
    "def merge_datasets(pickle_files, train_size):\n",
    "    num_classes = len(pickle_files)\n",
    "    train_size_per_class = train_size // num_classes\n",
    "    train_dataset, train_labels = create_dataset(train_size, image_height, image_width)\n",
    "    train_offset = 0\n",
    "    \n",
    "    for label, pickle_file in enumerate(pickle_files):  \n",
    "        try:\n",
    "            with open(pickle_file, 'rb') as f:\n",
    "                item_set = pickle.load(f)\n",
    "                np.random.shuffle(item_set)\n",
    "                train_item = item_set[:train_size_per_class, :, :]\n",
    "                train_dataset[train_offset:train_offset+train_size_per_class, :, :] = train_item\n",
    "                train_labels[train_offset:train_offset+train_size_per_class] = label\n",
    "                train_offset += train_size_per_class\n",
    "        \n",
    "        except Exception as e:\n",
    "            print('Unable to process data from', pickle_file, ':', e)\n",
    "            \n",
    "    return train_dataset, train_labels"
   ]
  },
  {
   "cell_type": "code",
   "execution_count": null,
   "metadata": {
    "collapsed": false
   },
   "outputs": [],
   "source": [
    "train_size = 10\n",
    "#test_size = 10000\n",
    "\n",
    "train_dataset, train_labels = merge_datasets(train_datasets, train_size)\n",
    "#_, _, test_dataset, test_labels = merge_datasets(test_datasets, test_size)\n",
    "\n",
    "print('Training:', train_dataset.shape, train_labels.shape)\n",
    "# print('Testing:', test_dataset.shape, test_labels.shape)"
   ]
  },
  {
   "cell_type": "code",
   "execution_count": null,
   "metadata": {
    "collapsed": false
   },
   "outputs": [],
   "source": [
    "img = train_dataset[3]\n",
    "plt.imshow(img)\n",
    "train_labels[3]"
   ]
  },
  {
   "cell_type": "markdown",
   "metadata": {},
   "source": [
    "Credits: \n",
    "<ul>\n",
    "<li>https://github.com/tensorflow/tensorflow/blob/master/tensorflow/examples/udacity/1_notmnist.ipynb</li>\n",
    "</ul>"
   ]
  }
 ],
 "metadata": {
  "kernelspec": {
   "display_name": "Python 3",
   "language": "python",
   "name": "python3"
  },
  "language_info": {
   "codemirror_mode": {
    "name": "ipython",
    "version": 3
   },
   "file_extension": ".py",
   "mimetype": "text/x-python",
   "name": "python",
   "nbconvert_exporter": "python",
   "pygments_lexer": "ipython3",
   "version": "3.5.2"
  },
  "widgets": {
   "state": {},
   "version": "1.1.2"
  }
 },
 "nbformat": 4,
 "nbformat_minor": 2
}
